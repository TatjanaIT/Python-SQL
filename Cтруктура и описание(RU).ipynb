{
 "cells": [
  {
   "cell_type": "markdown",
   "id": "6c5db91e-93dc-420b-91f4-96745b2b878b",
   "metadata": {},
   "source": [
    "# 🎬 Проект: Поиск фильмов в базе данных"
   ]
  },
  {
   "cell_type": "markdown",
   "id": "1d6d2139-c69a-41b7-837b-2e37d4a09220",
   "metadata": {},
   "source": [
    "## 📌 Цель проекта\n",
    "Создание интерактивного Python-интерфейса для поиска фильмов в базе данных по заданным параметрам: жанру, году выпуска, актеру, рейтингу и ключевым словам. Система также логирует запросы и отображает наиболее популярные из них."
   ]
  },
  {
   "cell_type": "markdown",
   "id": "9382a738-5784-4427-bc06-2499b7a13246",
   "metadata": {},
   "source": [
    "## 🗂️ Структура проекта"
   ]
  },
  {
   "cell_type": "raw",
   "id": "80bfe55e-5276-4192-a8dd-d0bd6ef63fcb",
   "metadata": {},
   "source": [
    "project/\n",
    "│\n",
    "├── main.py               # Основной скрипт запуска в Jupyter (ввод, логика, визуализация)\n",
    "├── movie_searcher.py     # Модуль поиска фильмов по базе данных\n",
    "├── logger.py             # Модуль логирования пользовательских запросов\n",
    "├── database.py           # Обертка для подключения и работы с MySQL базой данных\n",
    "└── Start_page.ipynb      # Jupyter Notebook-интерфейс (визуальный запуск проекта)"
   ]
  },
  {
   "cell_type": "markdown",
   "id": "88630292-dc9e-4dd6-a15b-3189fc7e2106",
   "metadata": {},
   "source": [
    "## 🔍 Описание компонентов"
   ]
  },
  {
   "cell_type": "markdown",
   "id": "ecb6fbc5-38b5-4b87-bf83-95f736153202",
   "metadata": {},
   "source": [
    "### main.py"
   ]
  },
  {
   "cell_type": "markdown",
   "id": "3895e17b-4e21-4506-a16c-0583d26fadc0",
   "metadata": {},
   "source": [
    "Основной скрипт для запуска в Jupyter Notebook.\n",
    "\n",
    "Осуществляет:\n",
    "- Подключение к двум базам данных: фильмы и логи.\n",
    "- Ввод параметров поиска пользователем через input().\n",
    "- Визуализацию результатов с HTML-постерами.\n",
    "- Запись запросов в лог и отображение популярных запросов.\n",
    "\n",
    "Использует tabulate и IPython.display для красивого вывода в ноутбуке."
   ]
  },
  {
   "cell_type": "markdown",
   "id": "7c8ba892-ce89-4a0d-b97c-e5a6f0fe0117",
   "metadata": {},
   "source": [
    "### movie_searcher.py"
   ]
  },
  {
   "cell_type": "markdown",
   "id": "441bf2fc-6573-4dff-ae22-72baaa54e63a",
   "metadata": {},
   "source": [
    "Класс MovieSearcher выполняет поиск фильмов.\n",
    "\n",
    "Формирует SQL-запрос с условиями:\n",
    "- жанры (genres LIKE '%...')\n",
    "- год, актер, рейтинг (imdb.rating >= ...), ключевые слова (в названии/описании)\n",
    "\n",
    "Возвращает отформатированный результат с данными, включая ссылку на постер."
   ]
  },
  {
   "cell_type": "markdown",
   "id": "b4dc5819-c1ea-4cb9-86b2-dab3b21bded7",
   "metadata": {},
   "source": [
    "### logger.py"
   ]
  },
  {
   "cell_type": "markdown",
   "id": "c3b68009-a11d-4286-a8e0-7fb2b84e4c24",
   "metadata": {},
   "source": [
    "Класс Logger логирует поисковые запросы пользователей.\n",
    "\n",
    "Сохраняет текст запроса в таблицу queries.\n",
    "\n",
    "Предоставляет метод получения топ-3 самых частых запросов."
   ]
  },
  {
   "cell_type": "markdown",
   "id": "dff5bf98-4927-4e7a-9373-bad7eaf3a720",
   "metadata": {},
   "source": [
    "### database.py"
   ]
  },
  {
   "cell_type": "markdown",
   "id": "fa50e418-238b-48cd-b735-9d5f46ffdac6",
   "metadata": {},
   "source": [
    "Утилитный класс для работы с базой данных (Database).\n",
    "\n",
    "Методы:\n",
    "- connect() — подключение к MySQL.\n",
    "- execute_query() — SELECT-запросы.\n",
    "- execute_update() — INSERT/UPDATE/DELETE.\n",
    "- close() — закрытие соединения."
   ]
  },
  {
   "cell_type": "markdown",
   "id": "cce2ae57-22f0-49ba-a280-695c1a0bd4ad",
   "metadata": {},
   "source": [
    "### Start_page.ipynb"
   ]
  },
  {
   "cell_type": "markdown",
   "id": "6251178c-63b9-4ad1-843b-1d7598ee7b2c",
   "metadata": {},
   "source": [
    "Jupyter Notebook для демонстрации.\n",
    "\n",
    "Подключает и запускает main.py, предоставляет визуальный интерфейс для демонстрации логики проекта."
   ]
  },
  {
   "cell_type": "markdown",
   "id": "a97fd990-13eb-48b9-9f93-bb1b1af3a5b0",
   "metadata": {},
   "source": [
    "## ⚙️ Технологии"
   ]
  },
  {
   "cell_type": "markdown",
   "id": "06feab3d-bead-4f12-bf2c-49eedfe28dfb",
   "metadata": {},
   "source": [
    " - Python 3\n",
    " - MySQL\n",
    " - Jupyter Notebook\n",
    " - Библиотеки: tabulate, mysql.connector, IPython.display"
   ]
  },
  {
   "cell_type": "markdown",
   "id": "e42a90b2-787c-43a2-ada9-6317688fa4ae",
   "metadata": {},
   "source": [
    "## 📊 Функциональные возможности"
   ]
  },
  {
   "cell_type": "markdown",
   "id": "644753c8-56d1-4a55-8aae-91164a1693b1",
   "metadata": {},
   "source": [
    " - Поиск фильмов по ключевым параметрам\n",
    " - Визуальное отображение постеров фильмов в таблице\n",
    " - Логирование пользовательских запросов\n",
    " - Анализ популярных запросов\n",
    " - Поддержка многошагового взаимодействия: поиск → действия → повторный поиск"
   ]
  },
  {
   "cell_type": "markdown",
   "id": "cb6273e8-736b-473e-9365-7338fc607be3",
   "metadata": {},
   "source": [
    "## 🎯 Преимущества проекта"
   ]
  },
  {
   "cell_type": "markdown",
   "id": "2ecbe5c3-bdaf-4cf4-a6a7-94f422e0c2bb",
   "metadata": {},
   "source": [
    "Чистая архитектура (разделение логики по модулям)\n",
    "\n",
    "Простота запуска и взаимодействия\n",
    "\n",
    "Возможность масштабирования: добавление новых фильтров, визуализация статистики, работа с API"
   ]
  }
 ],
 "metadata": {
  "kernelspec": {
   "display_name": "Python 3 (ipykernel)",
   "language": "python",
   "name": "python3"
  },
  "language_info": {
   "codemirror_mode": {
    "name": "ipython",
    "version": 3
   },
   "file_extension": ".py",
   "mimetype": "text/x-python",
   "name": "python",
   "nbconvert_exporter": "python",
   "pygments_lexer": "ipython3",
   "version": "3.12.3"
  }
 },
 "nbformat": 4,
 "nbformat_minor": 5
}
