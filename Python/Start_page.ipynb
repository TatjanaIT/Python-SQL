{
 "cells": [
  {
   "cell_type": "code",
   "execution_count": null,
   "id": "7b0f0d85-8d13-403c-af0c-ea5f88a763cc",
   "metadata": {},
   "outputs": [
    {
     "name": "stdin",
     "output_type": "stream",
     "text": [
      "Введите год (или оставьте поле пустым):  2008\n",
      "Введите жанр [Adventure, Drama, Comedy, Family...](или оставьте поле пустым):  Family\n",
      "Введите имя актера (или оставьте поле пустым):  \n",
      "Введите нужный вам рейтинг от 1 (или оставьте поле пустым):  \n",
      "Введите ключевое слово (или оставьте поле пустым):  WALLèE\n"
     ]
    },
    {
     "data": {
      "text/html": [
       "<div align=\"center\" style=\"width:80%\"><table>\n",
       "<thead>\n",
       "<tr><th>Название                        </th><th>Год                           </th><th>Рейтинг                      </th><th>Жанры                                                         </th><th>Время                       </th><th>Постер                                                                                                                                                                       </th></tr>\n",
       "</thead>\n",
       "<tbody>\n",
       "<tr><td><div align='center'>WALLèE</div></td><td><div align='center'>2008</div></td><td><div align='center'>8.4</div></td><td><div align='center'>{'Animation', 'Adventure', 'Family'}</div></td><td><div align='center'>98</div></td><td><img src=\"https://m.media-amazon.com/images/M/MV5BMjExMTg5OTU0NF5BMl5BanBnXkFtZTcwMjMxMzMzMw@@._V1_SY1000_SX677_AL_.jpg\" width=\"80\" height=\"120\" alt=\"Poster\" align=\"center\"></td></tr>\n",
       "</tbody>\n",
       "</table></div>"
      ],
      "text/plain": [
       "<IPython.core.display.HTML object>"
      ]
     },
     "metadata": {},
     "output_type": "display_data"
    },
    {
     "name": "stdin",
     "output_type": "stream",
     "text": [
      "\n",
      "Что вы хотите сделать дальше?\n",
      "1. Продолжить поиск\n",
      "2. Вывести популярные запросы\n",
      "Выберите действие (1/2):  2\n"
     ]
    },
    {
     "data": {
      "text/html": [
       "<div align=\"center\" style=\"width:80%\"><table>\n",
       "<thead>\n",
       "<tr><th>Запрос                                                                                                   </th><th>Количество                 </th></tr>\n",
       "</thead>\n",
       "<tbody>\n",
       "<tr><td><div align='center'>Genres: Thriller, Year: 2015, Actor: Margot Robbie, Rating: None, Keyword: None</div></td><td><div align='center'>9</div></td></tr>\n",
       "<tr><td><div align='center'>Genres: Family, Year: 2008, Actor: None, Rating: 8, Keyword: WALLèE</div>            </td><td><div align='center'>8</div></td></tr>\n",
       "<tr><td><div align='center'>Genres: None, Year: 2012, Actor: None, Rating: 8, Keyword: help</div>                </td><td><div align='center'>8</div></td></tr>\n",
       "</tbody>\n",
       "</table></div>"
      ],
      "text/plain": [
       "<IPython.core.display.HTML object>"
      ]
     },
     "metadata": {},
     "output_type": "display_data"
    }
   ],
   "source": [
    "import main"
   ]
  },
  {
   "cell_type": "code",
   "execution_count": null,
   "id": "62e22f73-0c96-40d9-a8cc-869b2e2b35f6",
   "metadata": {},
   "outputs": [],
   "source": []
  },
  {
   "cell_type": "code",
   "execution_count": null,
   "id": "23f024e3-73ab-4728-8aa5-189bbb00cb49",
   "metadata": {},
   "outputs": [],
   "source": []
  }
 ],
 "metadata": {
  "kernelspec": {
   "display_name": "Python 3 (ipykernel)",
   "language": "python",
   "name": "python3"
  },
  "language_info": {
   "codemirror_mode": {
    "name": "ipython",
    "version": 3
   },
   "file_extension": ".py",
   "mimetype": "text/x-python",
   "name": "python",
   "nbconvert_exporter": "python",
   "pygments_lexer": "ipython3",
   "version": "3.12.3"
  }
 },
 "nbformat": 4,
 "nbformat_minor": 5
}
