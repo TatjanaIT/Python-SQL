{
 "cells": [
  {
   "cell_type": "markdown",
   "id": "6c5db91e-93dc-420b-91f4-96745b2b878b",
   "metadata": {},
   "source": [
    "# 🎬 Project: Movie Search"
   ]
  },
  {
   "cell_type": "markdown",
   "id": "1d6d2139-c69a-41b7-837b-2e37d4a09220",
   "metadata": {},
   "source": [
    "## 📌 Project Goal\n",
    "To create an interactive Python-based interface for searching movies in a database using parameters such as genre, release year, actor, rating, and keywords. The system also logs user queries and displays the most popular ones."
   ]
  },
  {
   "cell_type": "markdown",
   "id": "9382a738-5784-4427-bc06-2499b7a13246",
   "metadata": {},
   "source": [
    "## 🗂️ Project Structure"
   ]
  },
  {
   "cell_type": "raw",
   "id": "e05e6a7b-1206-4bfa-b4bb-b01d30fea47c",
   "metadata": {},
   "source": [
    "project/\n",
    "│\n",
    "├── main.py               # Main execution script for Jupyter (user input, logic, visualization)\n",
    "├── movie_searcher.py     # Module for searching movies in the database\n",
    "├── logger.py             # Module for logging user queries\n",
    "├── database.py           # Utility for database connection and interaction\n",
    "└── Start_page.ipynb      # Jupyter Notebook interface for project demo"
   ]
  },
  {
   "cell_type": "markdown",
   "id": "88630292-dc9e-4dd6-a15b-3189fc7e2106",
   "metadata": {},
   "source": [
    "## 🔍 Module Descriptions"
   ]
  },
  {
   "cell_type": "markdown",
   "id": "ecb6fbc5-38b5-4b87-bf83-95f736153202",
   "metadata": {},
   "source": [
    "### main.py"
   ]
  },
  {
   "cell_type": "markdown",
   "id": "3895e17b-4e21-4506-a16c-0583d26fadc0",
   "metadata": {},
   "source": [
    "Main script to be executed in Jupyter Notebook.\n",
    "\n",
    "Responsibilities:\n",
    "- Connects to two databases: movies and logs.\n",
    "- Gathers user input through the console.\n",
    "- Displays search results with posters using HTML formatting.\n",
    "- Logs user input and shows most popular queries.\n",
    "\n",
    "Uses tabulate and IPython.display for formatted output."
   ]
  },
  {
   "cell_type": "markdown",
   "id": "7c8ba892-ce89-4a0d-b97c-e5a6f0fe0117",
   "metadata": {},
   "source": [
    "### movie_searcher.py"
   ]
  },
  {
   "cell_type": "markdown",
   "id": "441bf2fc-6573-4dff-ae22-72baaa54e63a",
   "metadata": {},
   "source": [
    "The MovieSearcher class performs the movie search.\n",
    "\n",
    "Builds dynamic SQL queries using:\n",
    "- Genre (genres LIKE '%...')\n",
    "- Year, actor, rating (imdb.rating >= ...), and keywords (in title or plot).\n",
    "\n",
    "Returns results with movie details, including poster URLs."
   ]
  },
  {
   "cell_type": "markdown",
   "id": "b4dc5819-c1ea-4cb9-86b2-dab3b21bded7",
   "metadata": {},
   "source": [
    "### logger.py"
   ]
  },
  {
   "cell_type": "markdown",
   "id": "c3b68009-a11d-4286-a8e0-7fb2b84e4c24",
   "metadata": {},
   "source": [
    "The Logger class handles query logging.\n",
    "\n",
    "Saves search descriptions to the queries table.\n",
    "\n",
    "Retrieves the top 3 most frequent search queries."
   ]
  },
  {
   "cell_type": "markdown",
   "id": "dff5bf98-4927-4e7a-9373-bad7eaf3a720",
   "metadata": {},
   "source": [
    "### database.py"
   ]
  },
  {
   "cell_type": "markdown",
   "id": "fa50e418-238b-48cd-b735-9d5f46ffdac6",
   "metadata": {},
   "source": [
    "Utility class for MySQL database interaction.\n",
    "\n",
    "Key methods:\n",
    "- connect() — connect to the database\n",
    "- execute_query() — execute SELECT queries\n",
    "- execute_update() — for INSERT/UPDATE/DELETE\n",
    "- close() — close the database connection"
   ]
  },
  {
   "cell_type": "markdown",
   "id": "cce2ae57-22f0-49ba-a280-695c1a0bd4ad",
   "metadata": {},
   "source": [
    "### Start_page.ipynb"
   ]
  },
  {
   "cell_type": "markdown",
   "id": "6251178c-63b9-4ad1-843b-1d7598ee7b2c",
   "metadata": {},
   "source": [
    "A Jupyter Notebook used for demonstrating the app.\n",
    "\n",
    "Imports and runs main.py, providing a visual interface for search logic."
   ]
  },
  {
   "cell_type": "markdown",
   "id": "a97fd990-13eb-48b9-9f93-bb1b1af3a5b0",
   "metadata": {},
   "source": [
    "## ⚙️ Technologies Used"
   ]
  },
  {
   "cell_type": "markdown",
   "id": "06feab3d-bead-4f12-bf2c-49eedfe28dfb",
   "metadata": {},
   "source": [
    "- Python 3\n",
    "- MySQL\n",
    "- Jupyter Notebook\n",
    "- Libraries: tabulate, mysql.connector, IPython.display"
   ]
  },
  {
   "cell_type": "markdown",
   "id": "e42a90b2-787c-43a2-ada9-6317688fa4ae",
   "metadata": {},
   "source": [
    "## 📊 Key Features"
   ]
  },
  {
   "cell_type": "markdown",
   "id": "644753c8-56d1-4a55-8aae-91164a1693b1",
   "metadata": {},
   "source": [
    " - Search movies by genre, year, actor, rating, and keyword\n",
    " - Visual display with movie posters in a table format\n",
    " - Logs and stores user queries\n",
    " - Displays the top 3 most frequent queries\n",
    " - Interactive, multi-step CLI interface for continued exploration"
   ]
  },
  {
   "cell_type": "markdown",
   "id": "914c9e98-9890-4a57-afdc-a4a2b748af96",
   "metadata": {},
   "source": [
    "## 🎯 Project Highlights"
   ]
  },
  {
   "cell_type": "markdown",
   "id": "2ecbe5c3-bdaf-4cf4-a6a7-94f422e0c2bb",
   "metadata": {},
   "source": [
    "Clean modular architecture\n",
    "\n",
    "Simple to use and extend\n",
    "\n",
    "Scalable: easy to add filters, connect APIs, or build dashboards"
   ]
  }
 ],
 "metadata": {
  "kernelspec": {
   "display_name": "Python 3 (ipykernel)",
   "language": "python",
   "name": "python3"
  },
  "language_info": {
   "codemirror_mode": {
    "name": "ipython",
    "version": 3
   },
   "file_extension": ".py",
   "mimetype": "text/x-python",
   "name": "python",
   "nbconvert_exporter": "python",
   "pygments_lexer": "ipython3",
   "version": "3.12.3"
  }
 },
 "nbformat": 4,
 "nbformat_minor": 5
}
